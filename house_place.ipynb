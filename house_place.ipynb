{
 "cells": [
  {
   "cell_type": "markdown",
   "metadata": {},
   "source": [
    "# <span style=\"color: Blue; \">kaggleの住宅価格予測（House Prices)</span>\n",
    "## 使用するデータ\n",
    "https://www.kaggle.com/c/house-prices-advanced-regression-techniques\n",
    "- 81の説明変数から住宅の価格を予測する\n",
    "- 決定木のアンサンブル学習や勾配ブースティングをメインとするが、線形でも精度を試す"
   ]
  },
  {
   "cell_type": "markdown",
   "metadata": {},
   "source": [
    "## 使用外部ライブラリ\n",
    "\n",
    "\n",
    "- matplotlib==3.1.3\n",
    "- seaborn==0.10.0\n",
    "- scipy==1.4.1\n",
    "- numpy==1.18.1\n",
    "- pandas==1.0.1\n",
    "- scikit-learn==0.22.1\n",
    "\n",
    "- xgboost==1.1.1\n",
    "- lightgbm==2.3.1"
   ]
  },
  {
   "cell_type": "markdown",
   "metadata": {},
   "source": [
    "## ■dataの読み込み\n",
    "- 使用する外部ライブラリーをインポート\n",
    "- ファイル読み込みを行う\n",
    "- trainデータの'SalePrice'を学習用データのラベルとする\n",
    "- trainデータとtestデータを同じ条件で前処理を行うため統一する\n",
    "- 共通の処理が終わったらまた、基に戻すためtraintest列を作成して、trainデータにはtrain、testデータにはtestデータを入力する\n",
    "- グラフで目的変数を確認するためのalldataprice、提出用のidを用意する"
   ]
  },
  {
   "cell_type": "code",
   "execution_count": 423,
   "metadata": {},
   "outputs": [],
   "source": [
    "import matplotlib.pyplot as plt \n",
    "import seaborn as sns\n",
    "from scipy.stats import skew,pearsonr\n",
    "import numpy as np\n",
    "import pandas as pd\n",
    "from sklearn.model_selection import train_test_split\n",
    "from sklearn.model_selection import GridSearchCV\n",
    "from sklearn.ensemble import RandomForestRegressor\n",
    "from sklearn.linear_model import LinearRegression\n",
    "from sklearn.metrics import r2_score,mean_squared_error\n",
    "from sklearn.svm import SVR\n",
    "import xgboost as xgb\n",
    "import lightgbm as lgb\n",
    "\n",
    "train = pd.read_csv(\"train.csv\")\n",
    "test = pd.read_csv(\"test.csv\")\n",
    "y_train = train[\"SalePrice\"]\n",
    "train[\"traintest\"] =\"train\"\n",
    "test[\"traintest\"] =\"test\"\n",
    "alldata = pd.concat([train,test], axis=0, sort=False)\n",
    "traintest = alldata[\"traintest\"]\n",
    "alldataprice = alldata[\"SalePrice\"]\n",
    "submissioonid= test['Id']"
   ]
  },
  {
   "cell_type": "markdown",
   "metadata": {},
   "source": [
    "## ■infoで説明変数のデータを確認\n",
    "- データのtypeと欠損値を確認する\n",
    "- データの種類はobjectデータとintデータ、floatデータ\n",
    "- 欠損データも含まれている"
   ]
  },
  {
   "cell_type": "code",
   "execution_count": 424,
   "metadata": {},
   "outputs": [
    {
     "name": "stdout",
     "output_type": "stream",
     "text": [
      "<class 'pandas.core.frame.DataFrame'>\n",
      "Int64Index: 2919 entries, 0 to 1458\n",
      "Data columns (total 82 columns):\n",
      " #   Column         Non-Null Count  Dtype  \n",
      "---  ------         --------------  -----  \n",
      " 0   Id             2919 non-null   int64  \n",
      " 1   MSSubClass     2919 non-null   int64  \n",
      " 2   MSZoning       2915 non-null   object \n",
      " 3   LotFrontage    2433 non-null   float64\n",
      " 4   LotArea        2919 non-null   int64  \n",
      " 5   Street         2919 non-null   object \n",
      " 6   Alley          198 non-null    object \n",
      " 7   LotShape       2919 non-null   object \n",
      " 8   LandContour    2919 non-null   object \n",
      " 9   Utilities      2917 non-null   object \n",
      " 10  LotConfig      2919 non-null   object \n",
      " 11  LandSlope      2919 non-null   object \n",
      " 12  Neighborhood   2919 non-null   object \n",
      " 13  Condition1     2919 non-null   object \n",
      " 14  Condition2     2919 non-null   object \n",
      " 15  BldgType       2919 non-null   object \n",
      " 16  HouseStyle     2919 non-null   object \n",
      " 17  OverallQual    2919 non-null   int64  \n",
      " 18  OverallCond    2919 non-null   int64  \n",
      " 19  YearBuilt      2919 non-null   int64  \n",
      " 20  YearRemodAdd   2919 non-null   int64  \n",
      " 21  RoofStyle      2919 non-null   object \n",
      " 22  RoofMatl       2919 non-null   object \n",
      " 23  Exterior1st    2918 non-null   object \n",
      " 24  Exterior2nd    2918 non-null   object \n",
      " 25  MasVnrType     2895 non-null   object \n",
      " 26  MasVnrArea     2896 non-null   float64\n",
      " 27  ExterQual      2919 non-null   object \n",
      " 28  ExterCond      2919 non-null   object \n",
      " 29  Foundation     2919 non-null   object \n",
      " 30  BsmtQual       2838 non-null   object \n",
      " 31  BsmtCond       2837 non-null   object \n",
      " 32  BsmtExposure   2837 non-null   object \n",
      " 33  BsmtFinType1   2840 non-null   object \n",
      " 34  BsmtFinSF1     2918 non-null   float64\n",
      " 35  BsmtFinType2   2839 non-null   object \n",
      " 36  BsmtFinSF2     2918 non-null   float64\n",
      " 37  BsmtUnfSF      2918 non-null   float64\n",
      " 38  TotalBsmtSF    2918 non-null   float64\n",
      " 39  Heating        2919 non-null   object \n",
      " 40  HeatingQC      2919 non-null   object \n",
      " 41  CentralAir     2919 non-null   object \n",
      " 42  Electrical     2918 non-null   object \n",
      " 43  1stFlrSF       2919 non-null   int64  \n",
      " 44  2ndFlrSF       2919 non-null   int64  \n",
      " 45  LowQualFinSF   2919 non-null   int64  \n",
      " 46  GrLivArea      2919 non-null   int64  \n",
      " 47  BsmtFullBath   2917 non-null   float64\n",
      " 48  BsmtHalfBath   2917 non-null   float64\n",
      " 49  FullBath       2919 non-null   int64  \n",
      " 50  HalfBath       2919 non-null   int64  \n",
      " 51  BedroomAbvGr   2919 non-null   int64  \n",
      " 52  KitchenAbvGr   2919 non-null   int64  \n",
      " 53  KitchenQual    2918 non-null   object \n",
      " 54  TotRmsAbvGrd   2919 non-null   int64  \n",
      " 55  Functional     2917 non-null   object \n",
      " 56  Fireplaces     2919 non-null   int64  \n",
      " 57  FireplaceQu    1499 non-null   object \n",
      " 58  GarageType     2762 non-null   object \n",
      " 59  GarageYrBlt    2760 non-null   float64\n",
      " 60  GarageFinish   2760 non-null   object \n",
      " 61  GarageCars     2918 non-null   float64\n",
      " 62  GarageArea     2918 non-null   float64\n",
      " 63  GarageQual     2760 non-null   object \n",
      " 64  GarageCond     2760 non-null   object \n",
      " 65  PavedDrive     2919 non-null   object \n",
      " 66  WoodDeckSF     2919 non-null   int64  \n",
      " 67  OpenPorchSF    2919 non-null   int64  \n",
      " 68  EnclosedPorch  2919 non-null   int64  \n",
      " 69  3SsnPorch      2919 non-null   int64  \n",
      " 70  ScreenPorch    2919 non-null   int64  \n",
      " 71  PoolArea       2919 non-null   int64  \n",
      " 72  PoolQC         10 non-null     object \n",
      " 73  Fence          571 non-null    object \n",
      " 74  MiscFeature    105 non-null    object \n",
      " 75  MiscVal        2919 non-null   int64  \n",
      " 76  MoSold         2919 non-null   int64  \n",
      " 77  YrSold         2919 non-null   int64  \n",
      " 78  SaleType       2918 non-null   object \n",
      " 79  SaleCondition  2919 non-null   object \n",
      " 80  SalePrice      1460 non-null   float64\n",
      " 81  traintest      2919 non-null   object \n",
      "dtypes: float64(12), int64(26), object(44)\n",
      "memory usage: 1.8+ MB\n"
     ]
    }
   ],
   "source": [
    "alldata.info()"
   ]
  },
  {
   "cell_type": "markdown",
   "metadata": {},
   "source": [
    "## 学習データのラベル確認\n",
    "- ラベルデータが、回帰の予測がしやすい正規分布になっているか、ヒストグラムで確認\n",
    "- 右裾を引くヒストグラの形になっている"
   ]
  },
  {
   "cell_type": "code",
   "execution_count": 425,
   "metadata": {},
   "outputs": [
    {
     "data": {
      "text/plain": [
       "(array([148., 723., 373., 135.,  51.,  19.,   4.,   3.,   2.,   2.]),\n",
       " array([ 34900., 106910., 178920., 250930., 322940., 394950., 466960.,\n",
       "        538970., 610980., 682990., 755000.]),\n",
       " <a list of 10 Patch objects>)"
      ]
     },
     "execution_count": 425,
     "metadata": {},
     "output_type": "execute_result"
    },
    {
     "data": {
      "image/png": "[encoded data removed]",
      "text/plain": [
       "<Figure size 432x288 with 1 Axes>"
      ]
     },
     "metadata": {
      "needs_background": "light"
     },
     "output_type": "display_data"
    }
   ],
   "source": [
    "plt.hist(y_train,bins=10)"
   ]
  },
  {
   "cell_type": "markdown",
   "metadata": {},
   "source": [
    "- 　a+1の対数当て正規分布に近づける\n",
    "- 再度ヒストグラムで確認をしたところ、正規分布に近づいているのを確認"
   ]
  },
  {
   "cell_type": "code",
   "execution_count": 426,
   "metadata": {},
   "outputs": [
    {
     "data": {
      "text/plain": [
       "(array([  5.,  12.,  54., 184., 470., 400., 220.,  90.,  19.,   6.]),\n",
       " array([10.46027076, 10.76769112, 11.07511148, 11.38253184, 11.6899522 ,\n",
       "        11.99737256, 12.30479292, 12.61221328, 12.91963363, 13.22705399,\n",
       "        13.53447435]),\n",
       " <a list of 10 Patch objects>)"
      ]
     },
     "execution_count": 426,
     "metadata": {},
     "output_type": "execute_result"
    },
    {
     "data": {
      "image/png": "[encoded data removed]",
      "text/plain": [
       "<Figure size 432x288 with 1 Axes>"
      ]
     },
     "metadata": {
      "needs_background": "light"
     },
     "output_type": "display_data"
    }
   ],
   "source": [
    "y_train = np.log1p(y_train)\n",
    "plt.hist(y_train,bins=10)"
   ]
  },
  {
   "cell_type": "markdown",
   "metadata": {},
   "source": [
    "## ■新たな特徴を作成\n",
    "- 説明変数が多いので、似たような列を合わせて、回帰の予測に貢献しそうな列を作成\n",
    "- １階、２階、地下室を合わせた総合的な部屋面積のtotalsize列の作成\n",
    "- totalsizeを部屋数で割ったoneroomsize列を作成\n",
    "- 築年数と、リホーム年数を合計したYearBuiltAndRemod列を作成\n",
    "- 4つのbathの列からTotalBath列を作成\n",
    "- porchに関連する変数を合計して、Totalporch列を作成\n",
    "- プールの有無のhaspool、２階の有無のhas2ndfloor、ガレージの有無のhasgarage"
   ]
  },
  {
   "cell_type": "code",
   "execution_count": 427,
   "metadata": {},
   "outputs": [],
   "source": [
    "alldata[\"totalsize\"] = alldata[\"1stFlrSF\"] + alldata[\"2ndFlrSF\"] + alldata[\"TotalBsmtSF\"]\n",
    "alldata[\"oneroomsize\"] =  alldata[\"totalsize\"]/alldata[\"TotRmsAbvGrd\"]\n",
    "alldata['YearBuiltAndRemod']=alldata['YearBuilt']+alldata['YearRemodAdd']\n",
    "alldata['Total_Bathrooms'] = (alldata['FullBath'] + (0.5 * alldata['HalfBath']) +\n",
    "                               alldata['BsmtFullBath'] + (0.5 * alldata['BsmtHalfBath']))\n",
    "alldata['Totalporch'] = (alldata['OpenPorchSF'] + alldata['3SsnPorch'] +\n",
    "                              alldata['EnclosedPorch'] + alldata['ScreenPorch'] +\n",
    "                              alldata['WoodDeckSF'])"
   ]
  },
  {
   "cell_type": "markdown",
   "metadata": {},
   "source": [
    "## ■整数データと小数データを確認\n",
    "-数値データの散布図を作成して、相関関係を確認"
   ]
  },
  {
   "cell_type": "code",
   "execution_count": 430,
   "metadata": {},
   "outputs": [
    {
     "ename": "AttributeError",
     "evalue": "'AxesSubplot' object has no property 'hspace'",
     "output_type": "error",
     "traceback": [
      "\u001b[0;31m---------------------------------------------------------------------------\u001b[0m",
      "\u001b[0;31mAttributeError\u001b[0m                            Traceback (most recent call last)",
      "\u001b[0;32m<ipython-input-430-04034a26f87a>\u001b[0m in \u001b[0;36m<module>\u001b[0;34m\u001b[0m\n\u001b[1;32m      4\u001b[0m \u001b[0;32mfor\u001b[0m \u001b[0mcolumn_name\u001b[0m \u001b[0;32min\u001b[0m \u001b[0malldata\u001b[0m\u001b[0;34m[\u001b[0m\u001b[0mnumber_data\u001b[0m\u001b[0;34m]\u001b[0m\u001b[0;34m:\u001b[0m\u001b[0;34m\u001b[0m\u001b[0;34m\u001b[0m\u001b[0m\n\u001b[1;32m      5\u001b[0m     \u001b[0ma\u001b[0m \u001b[0;34m=\u001b[0m \u001b[0ma\u001b[0m\u001b[0;34m+\u001b[0m\u001b[0;36m1\u001b[0m\u001b[0;34m\u001b[0m\u001b[0;34m\u001b[0m\u001b[0m\n\u001b[0;32m----> 6\u001b[0;31m     \u001b[0mplt\u001b[0m\u001b[0;34m.\u001b[0m\u001b[0msubplot\u001b[0m\u001b[0;34m(\u001b[0m\u001b[0;36m22\u001b[0m\u001b[0;34m,\u001b[0m\u001b[0;36m2\u001b[0m\u001b[0;34m,\u001b[0m\u001b[0ma\u001b[0m\u001b[0;34m,\u001b[0m\u001b[0mhspace\u001b[0m\u001b[0;34m=\u001b[0m\u001b[0;36m0.4\u001b[0m\u001b[0;34m)\u001b[0m\u001b[0;34m\u001b[0m\u001b[0;34m\u001b[0m\u001b[0m\n\u001b[0m\u001b[1;32m      7\u001b[0m     \u001b[0mplt\u001b[0m\u001b[0;34m.\u001b[0m\u001b[0mtitle\u001b[0m\u001b[0;34m(\u001b[0m\u001b[0mcolumn_name\u001b[0m\u001b[0;34m)\u001b[0m\u001b[0;34m\u001b[0m\u001b[0;34m\u001b[0m\u001b[0m\n\u001b[1;32m      8\u001b[0m     \u001b[0mplt\u001b[0m\u001b[0;34m.\u001b[0m\u001b[0mscatter\u001b[0m\u001b[0;34m(\u001b[0m\u001b[0malldata\u001b[0m\u001b[0;34m[\u001b[0m\u001b[0mcolumn_name\u001b[0m\u001b[0;34m]\u001b[0m\u001b[0;34m,\u001b[0m\u001b[0malldataprice\u001b[0m\u001b[0;34m)\u001b[0m\u001b[0;34m\u001b[0m\u001b[0;34m\u001b[0m\u001b[0m\n",
      "\u001b[0;32m~/opt/anaconda3/lib/python3.7/site-packages/matplotlib/pyplot.py\u001b[0m in \u001b[0;36msubplot\u001b[0;34m(*args, **kwargs)\u001b[0m\n\u001b[1;32m   1074\u001b[0m \u001b[0;34m\u001b[0m\u001b[0m\n\u001b[1;32m   1075\u001b[0m     \u001b[0mfig\u001b[0m \u001b[0;34m=\u001b[0m \u001b[0mgcf\u001b[0m\u001b[0;34m(\u001b[0m\u001b[0;34m)\u001b[0m\u001b[0;34m\u001b[0m\u001b[0;34m\u001b[0m\u001b[0m\n\u001b[0;32m-> 1076\u001b[0;31m     \u001b[0ma\u001b[0m \u001b[0;34m=\u001b[0m \u001b[0mfig\u001b[0m\u001b[0;34m.\u001b[0m\u001b[0madd_subplot\u001b[0m\u001b[0;34m(\u001b[0m\u001b[0;34m*\u001b[0m\u001b[0margs\u001b[0m\u001b[0;34m,\u001b[0m \u001b[0;34m**\u001b[0m\u001b[0mkwargs\u001b[0m\u001b[0;34m)\u001b[0m\u001b[0;34m\u001b[0m\u001b[0;34m\u001b[0m\u001b[0m\n\u001b[0m\u001b[1;32m   1077\u001b[0m     \u001b[0mbbox\u001b[0m \u001b[0;34m=\u001b[0m \u001b[0ma\u001b[0m\u001b[0;34m.\u001b[0m\u001b[0mbbox\u001b[0m\u001b[0;34m\u001b[0m\u001b[0;34m\u001b[0m\u001b[0m\n\u001b[1;32m   1078\u001b[0m     \u001b[0mbyebye\u001b[0m \u001b[0;34m=\u001b[0m \u001b[0;34m[\u001b[0m\u001b[0;34m]\u001b[0m\u001b[0;34m\u001b[0m\u001b[0;34m\u001b[0m\u001b[0m\n",
      "\u001b[0;32m~/opt/anaconda3/lib/python3.7/site-packages/matplotlib/figure.py\u001b[0m in \u001b[0;36madd_subplot\u001b[0;34m(self, *args, **kwargs)\u001b[0m\n\u001b[1;32m   1412\u001b[0m                     \u001b[0mself\u001b[0m\u001b[0;34m.\u001b[0m\u001b[0m_axstack\u001b[0m\u001b[0;34m.\u001b[0m\u001b[0mremove\u001b[0m\u001b[0;34m(\u001b[0m\u001b[0max\u001b[0m\u001b[0;34m)\u001b[0m\u001b[0;34m\u001b[0m\u001b[0;34m\u001b[0m\u001b[0m\n\u001b[1;32m   1413\u001b[0m \u001b[0;34m\u001b[0m\u001b[0m\n\u001b[0;32m-> 1414\u001b[0;31m             \u001b[0ma\u001b[0m \u001b[0;34m=\u001b[0m \u001b[0msubplot_class_factory\u001b[0m\u001b[0;34m(\u001b[0m\u001b[0mprojection_class\u001b[0m\u001b[0;34m)\u001b[0m\u001b[0;34m(\u001b[0m\u001b[0mself\u001b[0m\u001b[0;34m,\u001b[0m \u001b[0;34m*\u001b[0m\u001b[0margs\u001b[0m\u001b[0;34m,\u001b[0m \u001b[0;34m**\u001b[0m\u001b[0mkwargs\u001b[0m\u001b[0;34m)\u001b[0m\u001b[0;34m\u001b[0m\u001b[0;34m\u001b[0m\u001b[0m\n\u001b[0m\u001b[1;32m   1415\u001b[0m \u001b[0;34m\u001b[0m\u001b[0m\n\u001b[1;32m   1416\u001b[0m         \u001b[0;32mreturn\u001b[0m \u001b[0mself\u001b[0m\u001b[0;34m.\u001b[0m\u001b[0m_add_axes_internal\u001b[0m\u001b[0;34m(\u001b[0m\u001b[0mkey\u001b[0m\u001b[0;34m,\u001b[0m \u001b[0ma\u001b[0m\u001b[0;34m)\u001b[0m\u001b[0;34m\u001b[0m\u001b[0;34m\u001b[0m\u001b[0m\n",
      "\u001b[0;32m~/opt/anaconda3/lib/python3.7/site-packages/matplotlib/axes/_subplots.py\u001b[0m in \u001b[0;36m__init__\u001b[0;34m(self, fig, *args, **kwargs)\u001b[0m\n\u001b[1;32m     67\u001b[0m \u001b[0;34m\u001b[0m\u001b[0m\n\u001b[1;32m     68\u001b[0m         \u001b[0;31m# _axes_class is set in the subplot_class_factory\u001b[0m\u001b[0;34m\u001b[0m\u001b[0;34m\u001b[0m\u001b[0;34m\u001b[0m\u001b[0m\n\u001b[0;32m---> 69\u001b[0;31m         \u001b[0mself\u001b[0m\u001b[0;34m.\u001b[0m\u001b[0m_axes_class\u001b[0m\u001b[0;34m.\u001b[0m\u001b[0m__init__\u001b[0m\u001b[0;34m(\u001b[0m\u001b[0mself\u001b[0m\u001b[0;34m,\u001b[0m \u001b[0mfig\u001b[0m\u001b[0;34m,\u001b[0m \u001b[0mself\u001b[0m\u001b[0;34m.\u001b[0m\u001b[0mfigbox\u001b[0m\u001b[0;34m,\u001b[0m \u001b[0;34m**\u001b[0m\u001b[0mkwargs\u001b[0m\u001b[0;34m)\u001b[0m\u001b[0;34m\u001b[0m\u001b[0;34m\u001b[0m\u001b[0m\n\u001b[0m\u001b[1;32m     70\u001b[0m         \u001b[0;31m# add a layout box to this, for both the full axis, and the poss\u001b[0m\u001b[0;34m\u001b[0m\u001b[0;34m\u001b[0m\u001b[0;34m\u001b[0m\u001b[0m\n\u001b[1;32m     71\u001b[0m         \u001b[0;31m# of the axis.  We need both because the axes may become smaller\u001b[0m\u001b[0;34m\u001b[0m\u001b[0;34m\u001b[0m\u001b[0;34m\u001b[0m\u001b[0m\n",
      "\u001b[0;32m~/opt/anaconda3/lib/python3.7/site-packages/matplotlib/axes/_base.py\u001b[0m in \u001b[0;36m__init__\u001b[0;34m(self, fig, rect, facecolor, frameon, sharex, sharey, label, xscale, yscale, **kwargs)\u001b[0m\n\u001b[1;32m    507\u001b[0m             \u001b[0mself\u001b[0m\u001b[0;34m.\u001b[0m\u001b[0mset_yscale\u001b[0m\u001b[0;34m(\u001b[0m\u001b[0myscale\u001b[0m\u001b[0;34m)\u001b[0m\u001b[0;34m\u001b[0m\u001b[0;34m\u001b[0m\u001b[0m\n\u001b[1;32m    508\u001b[0m \u001b[0;34m\u001b[0m\u001b[0m\n\u001b[0;32m--> 509\u001b[0;31m         \u001b[0mself\u001b[0m\u001b[0;34m.\u001b[0m\u001b[0mupdate\u001b[0m\u001b[0;34m(\u001b[0m\u001b[0mkwargs\u001b[0m\u001b[0;34m)\u001b[0m\u001b[0;34m\u001b[0m\u001b[0;34m\u001b[0m\u001b[0m\n\u001b[0m\u001b[1;32m    510\u001b[0m \u001b[0;34m\u001b[0m\u001b[0m\n\u001b[1;32m    511\u001b[0m         \u001b[0;32mif\u001b[0m \u001b[0mself\u001b[0m\u001b[0;34m.\u001b[0m\u001b[0mxaxis\u001b[0m \u001b[0;32mis\u001b[0m \u001b[0;32mnot\u001b[0m \u001b[0;32mNone\u001b[0m\u001b[0;34m:\u001b[0m\u001b[0;34m\u001b[0m\u001b[0;34m\u001b[0m\u001b[0m\n",
      "\u001b[0;32m~/opt/anaconda3/lib/python3.7/site-packages/matplotlib/artist.py\u001b[0m in \u001b[0;36mupdate\u001b[0;34m(self, props)\u001b[0m\n\u001b[1;32m    972\u001b[0m \u001b[0;34m\u001b[0m\u001b[0m\n\u001b[1;32m    973\u001b[0m         \u001b[0;32mwith\u001b[0m \u001b[0mcbook\u001b[0m\u001b[0;34m.\u001b[0m\u001b[0m_setattr_cm\u001b[0m\u001b[0;34m(\u001b[0m\u001b[0mself\u001b[0m\u001b[0;34m,\u001b[0m \u001b[0meventson\u001b[0m\u001b[0;34m=\u001b[0m\u001b[0;32mFalse\u001b[0m\u001b[0;34m)\u001b[0m\u001b[0;34m:\u001b[0m\u001b[0;34m\u001b[0m\u001b[0;34m\u001b[0m\u001b[0m\n\u001b[0;32m--> 974\u001b[0;31m             \u001b[0mret\u001b[0m \u001b[0;34m=\u001b[0m \u001b[0;34m[\u001b[0m\u001b[0m_update_property\u001b[0m\u001b[0;34m(\u001b[0m\u001b[0mself\u001b[0m\u001b[0;34m,\u001b[0m \u001b[0mk\u001b[0m\u001b[0;34m,\u001b[0m \u001b[0mv\u001b[0m\u001b[0;34m)\u001b[0m \u001b[0;32mfor\u001b[0m \u001b[0mk\u001b[0m\u001b[0;34m,\u001b[0m \u001b[0mv\u001b[0m \u001b[0;32min\u001b[0m \u001b[0mprops\u001b[0m\u001b[0;34m.\u001b[0m\u001b[0mitems\u001b[0m\u001b[0;34m(\u001b[0m\u001b[0;34m)\u001b[0m\u001b[0;34m]\u001b[0m\u001b[0;34m\u001b[0m\u001b[0;34m\u001b[0m\u001b[0m\n\u001b[0m\u001b[1;32m    975\u001b[0m \u001b[0;34m\u001b[0m\u001b[0m\n\u001b[1;32m    976\u001b[0m         \u001b[0;32mif\u001b[0m \u001b[0mlen\u001b[0m\u001b[0;34m(\u001b[0m\u001b[0mret\u001b[0m\u001b[0;34m)\u001b[0m\u001b[0;34m:\u001b[0m\u001b[0;34m\u001b[0m\u001b[0;34m\u001b[0m\u001b[0m\n",
      "\u001b[0;32m~/opt/anaconda3/lib/python3.7/site-packages/matplotlib/artist.py\u001b[0m in \u001b[0;36m<listcomp>\u001b[0;34m(.0)\u001b[0m\n\u001b[1;32m    972\u001b[0m \u001b[0;34m\u001b[0m\u001b[0m\n\u001b[1;32m    973\u001b[0m         \u001b[0;32mwith\u001b[0m \u001b[0mcbook\u001b[0m\u001b[0;34m.\u001b[0m\u001b[0m_setattr_cm\u001b[0m\u001b[0;34m(\u001b[0m\u001b[0mself\u001b[0m\u001b[0;34m,\u001b[0m \u001b[0meventson\u001b[0m\u001b[0;34m=\u001b[0m\u001b[0;32mFalse\u001b[0m\u001b[0;34m)\u001b[0m\u001b[0;34m:\u001b[0m\u001b[0;34m\u001b[0m\u001b[0;34m\u001b[0m\u001b[0m\n\u001b[0;32m--> 974\u001b[0;31m             \u001b[0mret\u001b[0m \u001b[0;34m=\u001b[0m \u001b[0;34m[\u001b[0m\u001b[0m_update_property\u001b[0m\u001b[0;34m(\u001b[0m\u001b[0mself\u001b[0m\u001b[0;34m,\u001b[0m \u001b[0mk\u001b[0m\u001b[0;34m,\u001b[0m \u001b[0mv\u001b[0m\u001b[0;34m)\u001b[0m \u001b[0;32mfor\u001b[0m \u001b[0mk\u001b[0m\u001b[0;34m,\u001b[0m \u001b[0mv\u001b[0m \u001b[0;32min\u001b[0m \u001b[0mprops\u001b[0m\u001b[0;34m.\u001b[0m\u001b[0mitems\u001b[0m\u001b[0;34m(\u001b[0m\u001b[0;34m)\u001b[0m\u001b[0;34m]\u001b[0m\u001b[0;34m\u001b[0m\u001b[0;34m\u001b[0m\u001b[0m\n\u001b[0m\u001b[1;32m    975\u001b[0m \u001b[0;34m\u001b[0m\u001b[0m\n\u001b[1;32m    976\u001b[0m         \u001b[0;32mif\u001b[0m \u001b[0mlen\u001b[0m\u001b[0;34m(\u001b[0m\u001b[0mret\u001b[0m\u001b[0;34m)\u001b[0m\u001b[0;34m:\u001b[0m\u001b[0;34m\u001b[0m\u001b[0;34m\u001b[0m\u001b[0m\n",
      "\u001b[0;32m~/opt/anaconda3/lib/python3.7/site-packages/matplotlib/artist.py\u001b[0m in \u001b[0;36m_update_property\u001b[0;34m(self, k, v)\u001b[0m\n\u001b[1;32m    968\u001b[0m                 \u001b[0;32mif\u001b[0m \u001b[0;32mnot\u001b[0m \u001b[0mcallable\u001b[0m\u001b[0;34m(\u001b[0m\u001b[0mfunc\u001b[0m\u001b[0;34m)\u001b[0m\u001b[0;34m:\u001b[0m\u001b[0;34m\u001b[0m\u001b[0;34m\u001b[0m\u001b[0m\n\u001b[1;32m    969\u001b[0m                     raise AttributeError('{!r} object has no property {!r}'\n\u001b[0;32m--> 970\u001b[0;31m                                          .format(type(self).__name__, k))\n\u001b[0m\u001b[1;32m    971\u001b[0m                 \u001b[0;32mreturn\u001b[0m \u001b[0mfunc\u001b[0m\u001b[0;34m(\u001b[0m\u001b[0mv\u001b[0m\u001b[0;34m)\u001b[0m\u001b[0;34m\u001b[0m\u001b[0;34m\u001b[0m\u001b[0m\n\u001b[1;32m    972\u001b[0m \u001b[0;34m\u001b[0m\u001b[0m\n",
      "\u001b[0;31mAttributeError\u001b[0m: 'AxesSubplot' object has no property 'hspace'"
     ]
    },
    {
     "data": {
      "text/plain": [
       "<Figure size 1080x2880 with 0 Axes>"
      ]
     },
     "metadata": {},
     "output_type": "display_data"
    }
   ],
   "source": [
    "number_data = alldata.dtypes[alldata.dtypes !='object'].index\n",
    "a= 0\n",
    "plt.figure(figsize=(15, 40))\n",
    "for column_name in alldata[number_data]:\n",
    "    a = a+1\n",
    "    plt.subplot(22,2,a)\n",
    "    plt.title(column_name)\n",
    "    plt.scatter(alldata[column_name],alldataprice)"
   ]
  },
  {
   "cell_type": "markdown",
   "metadata": {},
   "source": [
    "- 正の相関係数が高そうなグラフはいくつか存在するのを確認したが、相関関係が低い項目も確認\n",
    "- 今回は決定木で予測するので、あまり相関がない列も残す\n",
    "- 目的変数が極端に大きいが、SaleRriceが400000以下精度に影響がありそうな項目を中央値で埋める\n",
    "- ユニークの数が少なく、縦に並んでいる列は、カテゴリーに出来るのでをobjectデータに変更する"
   ]
  },
  {
   "cell_type": "code",
   "execution_count": 393,
   "metadata": {},
   "outputs": [],
   "source": [
    "alldata.loc[(alldata['LotFrontage'] >300 ) & (alldata['SalePrice'] <= 400000 ),['LotFrontage']]= alldata['LotFrontage'].median()\n",
    "alldata.loc[(alldata['LotArea'] >100000 ) & (alldata['SalePrice'] <= 400000 ),['LotArea']]= alldata['LotArea'].median()\n",
    "alldata.loc[(alldata['MasVnrArea'] >1000 ) & (alldata['SalePrice'] <= 400000 ),['MasVnrArea']]= alldata['MasVnrArea'].median()\n",
    "alldata.loc[(alldata['BsmtFinSF1'] >4000 ) & (alldata['SalePrice'] <= 400000 ),['BsmtFinSF1']]= alldata['BsmtFinSF1'].median()\n",
    "alldata.loc[(alldata['TotalBsmtSF'] >5000 ) & (alldata['SalePrice'] <= 400000 ),['TotalBsmtSF']]= alldata['TotalBsmtSF'].median()\n",
    "alldata.loc[(alldata['1stFlrSF'] >4000 ) & (alldata['SalePrice'] <= 400000 ),['1stFlrSF']]= alldata['1stFlrSF'].median()\n",
    "alldata.loc[(alldata['GrLivArea'] >4000 ) & (alldata['SalePrice'] <= 400000 ),['GrLivArea']]= alldata['GrLivArea'].median()\n",
    "alldata.loc[(alldata['GarageArea'] >1200 ) & (alldata['SalePrice'] <= 400000 ),['GarageArea']]= alldata['GarageArea'].median()\n",
    "alldata.loc[(alldata['oneroomsize'] >900 ) & (alldata['SalePrice'] <= 400000 ),['oneroomsize']]= alldata['oneroomsize'].median()\n",
    "alldata.loc[(alldata['Totalporch'] >1000 ) & (alldata['SalePrice'] <= 400000 ),['Totalporch']]= alldata['Totalporch'].median()\n",
    "\n",
    "change_object =['MSSubClass','OverallQual','OverallCond','BsmtFullBath','BsmtHalfBath','HalfBath','FullBath', 'BedroomAbvGr','KitchenAbvGr',\n",
    "                              'Fireplaces','GarageCars','MoSold','YrSold']\n",
    "alldata[change_object] = alldata[change_object].astype('object')"
   ]
  },
  {
   "cell_type": "markdown",
   "metadata": {},
   "source": [
    "## ■Objectデータの欠損を確認\n",
    "\n",
    "- オブジェクトデータのそれぞれの列の欠損数を確認\n",
    "- 欠損数が20より多い列のリスト、20以下の列のリストを作成する"
   ]
  },
  {
   "cell_type": "code",
   "execution_count": 394,
   "metadata": {},
   "outputs": [
    {
     "name": "stdout",
     "output_type": "stream",
     "text": [
      "MSZoning\n",
      "欠損値 4\n",
      "['RL' 'RM' 'C (all)' 'FV' 'RH' nan]\n",
      "----------------------------------------------------------------------------------------------------\n",
      "Alley ■欠損が多い\n",
      "欠損値 2721\n",
      "[nan 'Grvl' 'Pave']\n",
      "----------------------------------------------------------------------------------------------------\n",
      "Utilities\n",
      "欠損値 2\n",
      "['AllPub' 'NoSeWa' nan]\n",
      "----------------------------------------------------------------------------------------------------\n",
      "Exterior1st\n",
      "欠損値 1\n",
      "['VinylSd' 'MetalSd' 'Wd Sdng' 'HdBoard' 'BrkFace' 'WdShing' 'CemntBd'\n",
      " 'Plywood' 'AsbShng' 'Stucco' 'BrkComm' 'AsphShn' 'Stone' 'ImStucc'\n",
      " 'CBlock' nan]\n",
      "----------------------------------------------------------------------------------------------------\n",
      "Exterior2nd\n",
      "欠損値 1\n",
      "['VinylSd' 'MetalSd' 'Wd Shng' 'HdBoard' 'Plywood' 'Wd Sdng' 'CmentBd'\n",
      " 'BrkFace' 'Stucco' 'AsbShng' 'Brk Cmn' 'ImStucc' 'AsphShn' 'Stone'\n",
      " 'Other' 'CBlock' nan]\n",
      "----------------------------------------------------------------------------------------------------\n",
      "MasVnrType ■欠損が多い\n",
      "欠損値 24\n",
      "['BrkFace' 'None' 'Stone' 'BrkCmn' nan]\n",
      "----------------------------------------------------------------------------------------------------\n",
      "BsmtQual ■欠損が多い\n",
      "欠損値 81\n",
      "['Gd' 'TA' 'Ex' nan 'Fa']\n",
      "----------------------------------------------------------------------------------------------------\n",
      "BsmtCond ■欠損が多い\n",
      "欠損値 82\n",
      "['TA' 'Gd' nan 'Fa' 'Po']\n",
      "----------------------------------------------------------------------------------------------------\n",
      "BsmtExposure ■欠損が多い\n",
      "欠損値 82\n",
      "['No' 'Gd' 'Mn' 'Av' nan]\n",
      "----------------------------------------------------------------------------------------------------\n",
      "BsmtFinType1 ■欠損が多い\n",
      "欠損値 79\n",
      "['GLQ' 'ALQ' 'Unf' 'Rec' 'BLQ' nan 'LwQ']\n",
      "----------------------------------------------------------------------------------------------------\n",
      "BsmtFinType2 ■欠損が多い\n",
      "欠損値 80\n",
      "['Unf' 'BLQ' nan 'ALQ' 'Rec' 'LwQ' 'GLQ']\n",
      "----------------------------------------------------------------------------------------------------\n",
      "Electrical\n",
      "欠損値 1\n",
      "['SBrkr' 'FuseF' 'FuseA' 'FuseP' 'Mix' nan]\n",
      "----------------------------------------------------------------------------------------------------\n",
      "BsmtFullBath\n",
      "欠損値 2\n",
      "[1.0 0.0 2.0 3.0 nan]\n",
      "----------------------------------------------------------------------------------------------------\n",
      "BsmtHalfBath\n",
      "欠損値 2\n",
      "[0.0 1.0 2.0 nan]\n",
      "----------------------------------------------------------------------------------------------------\n",
      "KitchenQual\n",
      "欠損値 1\n",
      "['Gd' 'TA' 'Ex' 'Fa' nan]\n",
      "----------------------------------------------------------------------------------------------------\n",
      "Functional\n",
      "欠損値 2\n",
      "['Typ' 'Min1' 'Maj1' 'Min2' 'Mod' 'Maj2' 'Sev' nan]\n",
      "----------------------------------------------------------------------------------------------------\n",
      "FireplaceQu ■欠損が多い\n",
      "欠損値 1420\n",
      "[nan 'TA' 'Gd' 'Fa' 'Ex' 'Po']\n",
      "----------------------------------------------------------------------------------------------------\n",
      "GarageType ■欠損が多い\n",
      "欠損値 157\n",
      "['Attchd' 'Detchd' 'BuiltIn' 'CarPort' nan 'Basment' '2Types']\n",
      "----------------------------------------------------------------------------------------------------\n",
      "GarageFinish ■欠損が多い\n",
      "欠損値 159\n",
      "['RFn' 'Unf' 'Fin' nan]\n",
      "----------------------------------------------------------------------------------------------------\n",
      "GarageCars\n",
      "欠損値 1\n",
      "[2.0 3.0 1.0 0.0 4.0 5.0 nan]\n",
      "----------------------------------------------------------------------------------------------------\n",
      "GarageQual ■欠損が多い\n",
      "欠損値 159\n",
      "['TA' 'Fa' 'Gd' nan 'Ex' 'Po']\n",
      "----------------------------------------------------------------------------------------------------\n",
      "GarageCond ■欠損が多い\n",
      "欠損値 159\n",
      "['TA' 'Fa' nan 'Gd' 'Po' 'Ex']\n",
      "----------------------------------------------------------------------------------------------------\n",
      "PoolQC ■欠損が多い\n",
      "欠損値 2909\n",
      "[nan 'Ex' 'Fa' 'Gd']\n",
      "----------------------------------------------------------------------------------------------------\n",
      "Fence ■欠損が多い\n",
      "欠損値 2348\n",
      "[nan 'MnPrv' 'GdWo' 'GdPrv' 'MnWw']\n",
      "----------------------------------------------------------------------------------------------------\n",
      "MiscFeature ■欠損が多い\n",
      "欠損値 2814\n",
      "[nan 'Shed' 'Gar2' 'Othr' 'TenC']\n",
      "----------------------------------------------------------------------------------------------------\n",
      "SaleType\n",
      "欠損値 1\n",
      "['WD' 'New' 'COD' 'ConLD' 'ConLI' 'CWD' 'ConLw' 'Con' 'Oth' nan]\n",
      "----------------------------------------------------------------------------------------------------\n"
     ]
    }
   ],
   "source": [
    "small_na=[]\n",
    "many_na=[]\n",
    "object_data = alldata.dtypes[alldata.dtypes =='object'].index\n",
    "for coulumns_name in alldata[object_data]:\n",
    "    na_data = alldata[coulumns_name].isnull().sum()\n",
    "    if 0< na_data <= 20:\n",
    "        print(coulumns_name)\n",
    "        print(\"欠損値\",na_data)\n",
    "        print(alldata[coulumns_name].unique())\n",
    "        \n",
    "        print(\"-\"*100)\n",
    "        small_na.append(coulumns_name)\n",
    "    elif 20 < na_data:\n",
    "        print(coulumns_name,'■欠損が多い')\n",
    "        print(\"欠損値\",na_data)\n",
    "        print(alldata[coulumns_name].unique())\n",
    "        print(\"-\"*100)\n",
    "        many_na.append(coulumns_name)"
   ]
  },
  {
   "cell_type": "markdown",
   "metadata": {},
   "source": [
    "- オブジェクトデータの欠損が20以下の列は、欠損の数量が少なく、度数への影響が少ないので最頻値で埋める"
   ]
  },
  {
   "cell_type": "code",
   "execution_count": 395,
   "metadata": {},
   "outputs": [
    {
     "name": "stdout",
     "output_type": "stream",
     "text": [
      "MSZoning\n",
      "Utilities\n",
      "Exterior1st\n",
      "Exterior2nd\n",
      "Electrical\n",
      "BsmtFullBath\n",
      "BsmtHalfBath\n",
      "KitchenQual\n",
      "Functional\n",
      "GarageCars\n",
      "SaleType\n"
     ]
    }
   ],
   "source": [
    "for coulumn_nanme in alldata[small_na]:\n",
    "    print(coulumn_nanme)\n",
    "    alldata[coulumn_nanme] = alldata[coulumn_nanme].fillna(alldata[coulumn_nanme].mode()[0])"
   ]
  },
  {
   "cell_type": "markdown",
   "metadata": {},
   "source": [
    "- 欠損値が多い列は、欠損を最頻値で埋めると度数が大きく変わりそうなので欠損も一つの特徴として、Noneを埋める"
   ]
  },
  {
   "cell_type": "code",
   "execution_count": 396,
   "metadata": {},
   "outputs": [
    {
     "name": "stdout",
     "output_type": "stream",
     "text": [
      "Alley\n",
      "MasVnrType\n",
      "BsmtQual\n",
      "BsmtCond\n",
      "BsmtExposure\n",
      "BsmtFinType1\n",
      "BsmtFinType2\n",
      "FireplaceQu\n",
      "GarageType\n",
      "GarageFinish\n",
      "GarageQual\n",
      "GarageCond\n",
      "PoolQC\n",
      "Fence\n",
      "MiscFeature\n"
     ]
    }
   ],
   "source": [
    "for coulumn_nanme in alldata[many_na]:\n",
    "    print(coulumn_nanme)\n",
    "    alldata[coulumn_nanme] = alldata[coulumn_nanme].fillna(\"None\")"
   ]
  },
  {
   "cell_type": "markdown",
   "metadata": {},
   "source": [
    "## ■数値データの欠損を確認\n",
    "\n",
    "- 数値データの欠損数を確認\n",
    "- 欠損10以下の列と、欠損数10より多い列のリストを作成する"
   ]
  },
  {
   "cell_type": "code",
   "execution_count": 397,
   "metadata": {},
   "outputs": [
    {
     "name": "stdout",
     "output_type": "stream",
     "text": [
      "LotFrontage\n",
      "欠損値 486\n",
      "----------------------------------------------------------------------------------------------------\n",
      "MasVnrArea\n",
      "欠損値 23\n",
      "----------------------------------------------------------------------------------------------------\n",
      "BsmtFinSF1\n",
      "欠損値 1\n",
      "----------------------------------------------------------------------------------------------------\n",
      "BsmtFinSF2\n",
      "欠損値 1\n",
      "----------------------------------------------------------------------------------------------------\n",
      "BsmtUnfSF\n",
      "欠損値 1\n",
      "----------------------------------------------------------------------------------------------------\n",
      "TotalBsmtSF\n",
      "欠損値 1\n",
      "----------------------------------------------------------------------------------------------------\n",
      "GarageYrBlt\n",
      "欠損値 159\n",
      "----------------------------------------------------------------------------------------------------\n",
      "GarageArea\n",
      "欠損値 1\n",
      "----------------------------------------------------------------------------------------------------\n",
      "SalePrice\n",
      "欠損値 1459\n",
      "----------------------------------------------------------------------------------------------------\n",
      "totalsize\n",
      "欠損値 1\n",
      "----------------------------------------------------------------------------------------------------\n",
      "oneroomsize\n",
      "欠損値 1\n",
      "----------------------------------------------------------------------------------------------------\n",
      "Total_Bathrooms\n",
      "欠損値 2\n",
      "----------------------------------------------------------------------------------------------------\n"
     ]
    }
   ],
   "source": [
    "number_na=[]\n",
    "for coulumns_name in alldata[number_data]:\n",
    "    na_data = alldata[coulumns_name].isnull().sum()\n",
    "    if na_data >0 :\n",
    "        print(coulumns_name)\n",
    "        print(\"欠損値\",na_data)\n",
    "        number_na.append(coulumns_name)\n",
    "        print(\"-\"*100)"
   ]
  },
  {
   "cell_type": "markdown",
   "metadata": {},
   "source": [
    "- 数値の欠損は、価格の幅に影響が少ない、中央値で埋める"
   ]
  },
  {
   "cell_type": "code",
   "execution_count": 398,
   "metadata": {},
   "outputs": [
    {
     "name": "stdout",
     "output_type": "stream",
     "text": [
      "LotFrontage\n",
      "MasVnrArea\n",
      "BsmtFinSF1\n",
      "BsmtFinSF2\n",
      "BsmtUnfSF\n",
      "TotalBsmtSF\n",
      "GarageYrBlt\n",
      "GarageArea\n",
      "SalePrice\n",
      "totalsize\n",
      "oneroomsize\n",
      "Total_Bathrooms\n"
     ]
    }
   ],
   "source": [
    "for coulumn_nanme in alldata[number_na]:\n",
    "    print(coulumn_nanme)\n",
    "    alldata[coulumn_nanme] = alldata[coulumn_nanme].fillna(alldata[coulumn_nanme].median())"
   ]
  },
  {
   "cell_type": "markdown",
   "metadata": {},
   "source": [
    "- 欠損値が埋まっているか確認"
   ]
  },
  {
   "cell_type": "code",
   "execution_count": 399,
   "metadata": {},
   "outputs": [],
   "source": [
    "for coulumns_name in alldata:\n",
    "    na_data = alldata[coulumns_name].isnull().sum()\n",
    "    if na_data>0:\n",
    "        print(coulumns_name)"
   ]
  },
  {
   "cell_type": "markdown",
   "metadata": {},
   "source": [
    "## ■歪度が大きい説明変数の確認\n",
    "- 歪度が0.75以上の数値の説明変数をヒストグラムで確認\n",
    "- どれも右裾を引くヒストグラの形になっている"
   ]
  },
  {
   "cell_type": "code",
   "execution_count": 422,
   "metadata": {},
   "outputs": [
    {
     "name": "stdout",
     "output_type": "stream",
     "text": [
      "****\n",
      "****\n",
      "****\n",
      "****\n",
      "****\n",
      "****\n",
      "****\n",
      "****\n",
      "****\n",
      "****\n",
      "****\n",
      "****\n",
      "****\n",
      "****\n",
      "****\n",
      "****\n",
      "****\n",
      "****\n",
      "****\n",
      "****\n",
      "****\n",
      "****\n",
      "****\n",
      "****\n",
      "****\n",
      "****\n",
      "****\n",
      "****\n",
      "****\n",
      "****\n",
      "****\n",
      "****\n",
      "****\n",
      "****\n",
      "****\n",
      "****\n",
      "****\n",
      "****\n",
      "****\n",
      "****\n",
      "****\n",
      "****\n",
      "****\n",
      "****\n"
     ]
    },
    {
     "ename": "ValueError",
     "evalue": "num must be 1 <= num <= 44, not 45",
     "output_type": "error",
     "traceback": [
      "\u001b[0;31m---------------------------------------------------------------------------\u001b[0m",
      "\u001b[0;31mValueError\u001b[0m                                Traceback (most recent call last)",
      "\u001b[0;32m<ipython-input-422-ddbe3b96ae3c>\u001b[0m in \u001b[0;36m<module>\u001b[0;34m\u001b[0m\n\u001b[1;32m      6\u001b[0m \u001b[0;32mfor\u001b[0m \u001b[0mcolumn_name\u001b[0m \u001b[0;32min\u001b[0m \u001b[0malldata\u001b[0m\u001b[0;34m[\u001b[0m\u001b[0mbig_skewed\u001b[0m\u001b[0;34m]\u001b[0m\u001b[0;34m:\u001b[0m\u001b[0;34m\u001b[0m\u001b[0;34m\u001b[0m\u001b[0m\n\u001b[1;32m      7\u001b[0m     \u001b[0ma\u001b[0m \u001b[0;34m=\u001b[0m \u001b[0ma\u001b[0m\u001b[0;34m+\u001b[0m\u001b[0;36m1\u001b[0m\u001b[0;34m\u001b[0m\u001b[0;34m\u001b[0m\u001b[0m\n\u001b[0;32m----> 8\u001b[0;31m     \u001b[0mplt\u001b[0m\u001b[0;34m.\u001b[0m\u001b[0msubplot\u001b[0m\u001b[0;34m(\u001b[0m\u001b[0;36m22\u001b[0m\u001b[0;34m,\u001b[0m\u001b[0;36m2\u001b[0m\u001b[0;34m,\u001b[0m\u001b[0ma\u001b[0m\u001b[0;34m)\u001b[0m\u001b[0;34m\u001b[0m\u001b[0;34m\u001b[0m\u001b[0m\n\u001b[0m\u001b[1;32m      9\u001b[0m     \u001b[0mplt\u001b[0m\u001b[0;34m.\u001b[0m\u001b[0mtitle\u001b[0m\u001b[0;34m(\u001b[0m\u001b[0mcolumn_name\u001b[0m\u001b[0;34m)\u001b[0m\u001b[0;34m\u001b[0m\u001b[0;34m\u001b[0m\u001b[0m\n\u001b[1;32m     10\u001b[0m     \u001b[0mplt\u001b[0m\u001b[0;34m.\u001b[0m\u001b[0mhist\u001b[0m\u001b[0;34m(\u001b[0m\u001b[0malldata\u001b[0m\u001b[0;34m[\u001b[0m\u001b[0mcolumn_name\u001b[0m\u001b[0;34m]\u001b[0m\u001b[0;34m)\u001b[0m\u001b[0;34m\u001b[0m\u001b[0;34m\u001b[0m\u001b[0m\n",
      "\u001b[0;32m~/opt/anaconda3/lib/python3.7/site-packages/matplotlib/pyplot.py\u001b[0m in \u001b[0;36msubplot\u001b[0;34m(*args, **kwargs)\u001b[0m\n\u001b[1;32m   1074\u001b[0m \u001b[0;34m\u001b[0m\u001b[0m\n\u001b[1;32m   1075\u001b[0m     \u001b[0mfig\u001b[0m \u001b[0;34m=\u001b[0m \u001b[0mgcf\u001b[0m\u001b[0;34m(\u001b[0m\u001b[0;34m)\u001b[0m\u001b[0;34m\u001b[0m\u001b[0;34m\u001b[0m\u001b[0m\n\u001b[0;32m-> 1076\u001b[0;31m     \u001b[0ma\u001b[0m \u001b[0;34m=\u001b[0m \u001b[0mfig\u001b[0m\u001b[0;34m.\u001b[0m\u001b[0madd_subplot\u001b[0m\u001b[0;34m(\u001b[0m\u001b[0;34m*\u001b[0m\u001b[0margs\u001b[0m\u001b[0;34m,\u001b[0m \u001b[0;34m**\u001b[0m\u001b[0mkwargs\u001b[0m\u001b[0;34m)\u001b[0m\u001b[0;34m\u001b[0m\u001b[0;34m\u001b[0m\u001b[0m\n\u001b[0m\u001b[1;32m   1077\u001b[0m     \u001b[0mbbox\u001b[0m \u001b[0;34m=\u001b[0m \u001b[0ma\u001b[0m\u001b[0;34m.\u001b[0m\u001b[0mbbox\u001b[0m\u001b[0;34m\u001b[0m\u001b[0;34m\u001b[0m\u001b[0m\n\u001b[1;32m   1078\u001b[0m     \u001b[0mbyebye\u001b[0m \u001b[0;34m=\u001b[0m \u001b[0;34m[\u001b[0m\u001b[0;34m]\u001b[0m\u001b[0;34m\u001b[0m\u001b[0;34m\u001b[0m\u001b[0m\n",
      "\u001b[0;32m~/opt/anaconda3/lib/python3.7/site-packages/matplotlib/figure.py\u001b[0m in \u001b[0;36madd_subplot\u001b[0;34m(self, *args, **kwargs)\u001b[0m\n\u001b[1;32m   1412\u001b[0m                     \u001b[0mself\u001b[0m\u001b[0;34m.\u001b[0m\u001b[0m_axstack\u001b[0m\u001b[0;34m.\u001b[0m\u001b[0mremove\u001b[0m\u001b[0;34m(\u001b[0m\u001b[0max\u001b[0m\u001b[0;34m)\u001b[0m\u001b[0;34m\u001b[0m\u001b[0;34m\u001b[0m\u001b[0m\n\u001b[1;32m   1413\u001b[0m \u001b[0;34m\u001b[0m\u001b[0m\n\u001b[0;32m-> 1414\u001b[0;31m             \u001b[0ma\u001b[0m \u001b[0;34m=\u001b[0m \u001b[0msubplot_class_factory\u001b[0m\u001b[0;34m(\u001b[0m\u001b[0mprojection_class\u001b[0m\u001b[0;34m)\u001b[0m\u001b[0;34m(\u001b[0m\u001b[0mself\u001b[0m\u001b[0;34m,\u001b[0m \u001b[0;34m*\u001b[0m\u001b[0margs\u001b[0m\u001b[0;34m,\u001b[0m \u001b[0;34m**\u001b[0m\u001b[0mkwargs\u001b[0m\u001b[0;34m)\u001b[0m\u001b[0;34m\u001b[0m\u001b[0;34m\u001b[0m\u001b[0m\n\u001b[0m\u001b[1;32m   1415\u001b[0m \u001b[0;34m\u001b[0m\u001b[0m\n\u001b[1;32m   1416\u001b[0m         \u001b[0;32mreturn\u001b[0m \u001b[0mself\u001b[0m\u001b[0;34m.\u001b[0m\u001b[0m_add_axes_internal\u001b[0m\u001b[0;34m(\u001b[0m\u001b[0mkey\u001b[0m\u001b[0;34m,\u001b[0m \u001b[0ma\u001b[0m\u001b[0;34m)\u001b[0m\u001b[0;34m\u001b[0m\u001b[0;34m\u001b[0m\u001b[0m\n",
      "\u001b[0;32m~/opt/anaconda3/lib/python3.7/site-packages/matplotlib/axes/_subplots.py\u001b[0m in \u001b[0;36m__init__\u001b[0;34m(self, fig, *args, **kwargs)\u001b[0m\n\u001b[1;32m     57\u001b[0m                 \u001b[0;32mif\u001b[0m \u001b[0mnum\u001b[0m \u001b[0;34m<\u001b[0m \u001b[0;36m1\u001b[0m \u001b[0;32mor\u001b[0m \u001b[0mnum\u001b[0m \u001b[0;34m>\u001b[0m \u001b[0mrows\u001b[0m\u001b[0;34m*\u001b[0m\u001b[0mcols\u001b[0m\u001b[0;34m:\u001b[0m\u001b[0;34m\u001b[0m\u001b[0;34m\u001b[0m\u001b[0m\n\u001b[1;32m     58\u001b[0m                     raise ValueError(\n\u001b[0;32m---> 59\u001b[0;31m                         f\"num must be 1 <= num <= {rows*cols}, not {num}\")\n\u001b[0m\u001b[1;32m     60\u001b[0m                 self._subplotspec = GridSpec(\n\u001b[1;32m     61\u001b[0m                         rows, cols, figure=self.figure)[int(num) - 1]\n",
      "\u001b[0;31mValueError\u001b[0m: num must be 1 <= num <= 44, not 45"
     ]
    },
    {
     "data": {
      "image/png": "[encoded data removed]",
      "text/plain": [
       "<Figure size 1080x2880 with 44 Axes>"
      ]
     },
     "metadata": {
      "needs_background": "light"
     },
     "output_type": "display_data"
    }
   ],
   "source": [
    "numberalldata = alldata.dtypes[alldata.dtypes !=\"object\"].index\n",
    "skewed = alldata[numberalldata].apply(lambda x: skew(x))\n",
    "big_skewed = skewed[skewed > 0.75].index\n",
    "a= 0\n",
    "plt.figure(figsize=(15, 40))\n",
    "for column_name in alldata[big_skewed]:\n",
    "    a = a+1\n",
    "    plt.subplot(22,2,a)\n",
    "    plt.title(column_name)\n",
    "    plt.hist(alldata[column_name])"
   ]
  },
  {
   "cell_type": "markdown",
   "metadata": {},
   "source": [
    "- 説明変数と同じく対数を当てて正規分布に近づける\n",
    "- ヒストグラムで再度確認をする\n",
    "- 中央が真ん中となる、正規分布に近づいた列もあれば、最頻値が多く占めている列はあまり変わりない"
   ]
  },
  {
   "cell_type": "code",
   "execution_count": 401,
   "metadata": {},
   "outputs": [
    {
     "data": {
      "image/png": "[encoded data removed]",
      "text/plain": [
       "<Figure size 1080x2880 with 22 Axes>"
      ]
     },
     "metadata": {
      "needs_background": "light"
     },
     "output_type": "display_data"
    }
   ],
   "source": [
    "alldata[big_skewed] = np.log1p(alldata[big_skewed])\n",
    "a= 0\n",
    "plt.figure(figsize=(15, 40))\n",
    "for column_name in alldata[big_skewed]:\n",
    "    a = a+1\n",
    "    plt.subplot(22,2,a)\n",
    "    plt.title(column_name)\n",
    "    plt.hist(alldata[column_name])"
   ]
  },
  {
   "cell_type": "markdown",
   "metadata": {},
   "source": [
    "## ■objectデータの加工\n",
    "- objectdataは数値として扱わず、数値としての予測がされないようにget_dummiesで１つの特徴ごとに列を作成する"
   ]
  },
  {
   "cell_type": "code",
   "execution_count": 402,
   "metadata": {},
   "outputs": [],
   "source": [
    "object_data = alldata.dtypes[alldata.dtypes ==\"object\"].index\n",
    "alldata = pd.get_dummies(alldata)"
   ]
  },
  {
   "cell_type": "markdown",
   "metadata": {},
   "source": [
    "## ■学習データと、testdataの分割\n",
    "\n",
    "- alldataからラベルデータのSalePraice、idデータを削除\n",
    "\n",
    "- 共通の データ加工が終わったので再度、trainデータとtestデータを分け,x_train,y_testとする\n",
    "- traintest_test列も学習では使わないので削除"
   ]
  },
  {
   "cell_type": "code",
   "execution_count": 403,
   "metadata": {},
   "outputs": [],
   "source": [
    "alldata_del_coulumns = ['SalePrice','Id']\n",
    "alldata = alldata.drop(alldata_del_coulumns,axis=1)\n",
    "x_train = alldata.query('traintest_test == 0')\n",
    "x_test =  alldata.query('traintest_test == 1')\n",
    "after_split_delcoulumns = [\"traintest_test\",\"traintest_train\"]\n",
    "x_train = x_train.drop(after_split_delcoulumns ,axis=1)\n",
    "x_test = x_test.drop(after_split_delcoulumns ,axis=1)"
   ]
  },
  {
   "cell_type": "markdown",
   "metadata": {},
   "source": [
    "- trainデータにあるが、testデータにないobjectdataを確認\n",
    "- trainデータにあるが、testデータにないobjectデータを確認"
   ]
  },
  {
   "cell_type": "code",
   "execution_count": 404,
   "metadata": {},
   "outputs": [
    {
     "name": "stdout",
     "output_type": "stream",
     "text": [
      "MSSubClass_150\n",
      "Utilities_AllPub\n",
      "Utilities_NoSeWa\n",
      "Condition2_RRAe\n",
      "Condition2_RRAn\n",
      "Condition2_RRNn\n",
      "HouseStyle_2.5Fin\n",
      "RoofMatl_ClyTile\n",
      "RoofMatl_Membran\n",
      "RoofMatl_Metal\n",
      "RoofMatl_Roll\n",
      "Exterior1st_ImStucc\n",
      "Exterior1st_Stone\n",
      "Exterior2nd_Other\n",
      "Heating_Floor\n",
      "Heating_OthW\n",
      "Electrical_Mix\n",
      "FullBath_4\n",
      "BedroomAbvGr_8\n",
      "KitchenAbvGr_3\n",
      "Fireplaces_4\n",
      "GarageQual_Ex\n",
      "PoolQC_Fa\n",
      "MiscFeature_TenC\n"
     ]
    }
   ],
   "source": [
    "delete_columns = []\n",
    "for coulumn in x_train:\n",
    "    x_train_unique = len(x_train[coulumn].unique())\n",
    "    x_text_unique = len(x_test[coulumn].unique())\n",
    "    if x_train_unique !=  x_text_unique:\n",
    "        if x_train[coulumn].dtypes ==\"uint8\":\n",
    "            print(coulumn)\n",
    "            delete_columns.append(coulumn)"
   ]
  },
  {
   "cell_type": "markdown",
   "metadata": {},
   "source": [
    "- 片方にしか特徴がないラベルデータがあったので、削除する"
   ]
  },
  {
   "cell_type": "code",
   "execution_count": 405,
   "metadata": {},
   "outputs": [],
   "source": [
    "x_train =x_train.drop(x_train[delete_columns],axis=1)\n",
    "x_test =x_test.drop(x_test[delete_columns],axis=1)"
   ]
  },
  {
   "cell_type": "markdown",
   "metadata": {},
   "source": [
    "- 線形専用の、x_train2,x_test2を作成する\n",
    "- 線形の学習で1つのユニーク数が９９％以上占める列は学習に影響を与えそうなので削除"
   ]
  },
  {
   "cell_type": "code",
   "execution_count": 406,
   "metadata": {},
   "outputs": [
    {
     "name": "stdout",
     "output_type": "stream",
     "text": [
      "2\n",
      "MSSubClass_40\n",
      "6\n",
      "MSSubClass_45\n",
      "7\n",
      "MSSubClass_75\n",
      "28\n",
      "MSSubClass_85\n",
      "7\n",
      "MSSubClass_180\n",
      "15\n",
      "MSZoning_C (all)\n",
      "10\n",
      "MSZoning_RH\n",
      "6\n",
      "Street_Grvl\n",
      "1453\n",
      "Street_Pave\n",
      "6\n",
      "LotShape_IR3\n",
      "24\n",
      "LandContour_Low\n",
      "10\n",
      "LotConfig_FR3\n",
      "3\n",
      "LandSlope_Sev\n",
      "11\n",
      "Neighborhood_Blmngtn\n",
      "8\n",
      "Neighborhood_Blueste\n",
      "14\n",
      "Neighborhood_BrDale\n",
      "16\n",
      "Neighborhood_ClearCr\n",
      "20\n",
      "Neighborhood_MeadowV\n",
      "14\n",
      "Neighborhood_NPkVill\n",
      "23\n",
      "Neighborhood_SWISU\n",
      "26\n",
      "Neighborhood_StoneBr\n",
      "13\n",
      "Neighborhood_Veenker\n",
      "12\n",
      "Condition1_PosA\n",
      "20\n",
      "Condition1_PosN\n",
      "17\n",
      "Condition1_RRAe\n",
      "24\n",
      "Condition1_RRAn\n",
      "4\n",
      "Condition1_RRNe\n",
      "4\n",
      "Condition1_RRNn\n",
      "3\n",
      "Condition2_Artery\n",
      "7\n",
      "Condition2_Feedr\n",
      "1444\n",
      "Condition2_Norm\n",
      "3\n",
      "Condition2_PosA\n",
      "2\n",
      "Condition2_PosN\n",
      "5\n",
      "HouseStyle_1.5Unf\n",
      "13\n",
      "HouseStyle_2.5Unf\n",
      "2\n",
      "OverallQual_1\n",
      "10\n",
      "OverallQual_2\n",
      "20\n",
      "OverallQual_3\n",
      "13\n",
      "OverallQual_10\n",
      "6\n",
      "OverallCond_1\n",
      "5\n",
      "OverallCond_2\n",
      "25\n",
      "OverallCond_3\n",
      "19\n",
      "OverallCond_9\n",
      "7\n",
      "RoofStyle_Flat\n",
      "11\n",
      "RoofStyle_Gambrel\n",
      "4\n",
      "RoofStyle_Mansard\n",
      "3\n",
      "RoofStyle_Shed\n",
      "1442\n",
      "RoofMatl_CompShg\n",
      "12\n",
      "RoofMatl_Tar&Grv\n",
      "4\n",
      "RoofMatl_WdShake\n",
      "1\n",
      "RoofMatl_WdShngl\n",
      "24\n",
      "Exterior1st_AsbShng\n",
      "1\n",
      "Exterior1st_AsphShn\n",
      "4\n",
      "Exterior1st_BrkComm\n",
      "1\n",
      "Exterior1st_CBlock\n",
      "18\n",
      "Exterior1st_Stucco\n",
      "18\n",
      "Exterior2nd_AsbShng\n",
      "1\n",
      "Exterior2nd_AsphShn\n",
      "15\n",
      "Exterior2nd_Brk Cmn\n",
      "22\n",
      "Exterior2nd_BrkFace\n",
      "2\n",
      "Exterior2nd_CBlock\n",
      "5\n",
      "Exterior2nd_ImStucc\n",
      "1\n",
      "Exterior2nd_Stone\n",
      "21\n",
      "Exterior2nd_Stucco\n",
      "10\n",
      "MasVnrType_BrkCmn\n",
      "21\n",
      "ExterQual_Fa\n",
      "9\n",
      "ExterCond_Ex\n",
      "2\n",
      "ExterCond_Po\n",
      "25\n",
      "Foundation_Slab\n",
      "5\n",
      "Foundation_Stone\n",
      "2\n",
      "Foundation_Wood\n",
      "3\n",
      "BsmtCond_Po\n",
      "20\n",
      "BsmtFinType2_GLQ\n",
      "1446\n",
      "Heating_GasA\n",
      "9\n",
      "Heating_GasW\n",
      "2\n",
      "Heating_Grav\n",
      "2\n",
      "Heating_Wall\n",
      "2\n",
      "HeatingQC_Po\n",
      "23\n",
      "Electrical_FuseF\n",
      "5\n",
      "Electrical_FuseP\n",
      "3\n",
      "FullBath_0\n",
      "13\n",
      "HalfBath_2\n",
      "2\n",
      "BedroomAbvGr_0\n",
      "27\n",
      "BedroomAbvGr_5\n",
      "14\n",
      "BedroomAbvGr_6\n",
      "2\n",
      "KitchenAbvGr_0\n",
      "5\n",
      "Functional_Maj1\n",
      "4\n",
      "Functional_Maj2\n",
      "20\n",
      "Functional_Mod\n",
      "1\n",
      "Functional_Sev\n",
      "6\n",
      "Fireplaces_3\n",
      "19\n",
      "FireplaceQu_Ex\n",
      "26\n",
      "FireplaceQu_Po\n",
      "17\n",
      "GarageType_2Types\n",
      "17\n",
      "GarageType_Basment\n",
      "6\n",
      "GarageType_CarPort\n",
      "10\n",
      "GarageQual_Gd\n",
      "2\n",
      "GarageQual_Po\n",
      "1\n",
      "GarageCond_Ex\n",
      "6\n",
      "GarageCond_Gd\n",
      "7\n",
      "GarageCond_Po\n",
      "2\n",
      "PoolQC_Ex\n",
      "1\n",
      "PoolQC_Gd\n",
      "1456\n",
      "PoolQC_None\n",
      "1\n",
      "Fence_MnWw\n",
      "3\n",
      "MiscFeature_Gar2\n",
      "2\n",
      "MiscFeature_Othr\n",
      "8\n",
      "SaleType_CWD\n",
      "3\n",
      "SaleType_Con\n",
      "17\n",
      "SaleType_ConLD\n",
      "4\n",
      "SaleType_ConLI\n",
      "3\n",
      "SaleType_ConLw\n",
      "4\n",
      "SaleType_Oth\n",
      "8\n",
      "SaleCondition_AdjLand\n",
      "12\n",
      "SaleCondition_Alloca\n",
      "26\n",
      "SaleCondition_Family\n"
     ]
    }
   ],
   "source": [
    "delete_columns2 = []\n",
    "for coulumn in x_train:\n",
    "    sum = x_test[coulumn].sum()\n",
    "    if x_test[coulumn].dtypes ==\"uint8\":\n",
    "        if sum <30:\n",
    "            print(sum)\n",
    "            print(coulumn)\n",
    "            delete_columns2.append(coulumn)\n",
    "        elif sum > 1424: \n",
    "            print(sum)\n",
    "            print(coulumn)\n",
    "            delete_columns2.append(coulumn)\n",
    "x_train2 = x_train\n",
    "x_test2 = x_test\n",
    "y_train2 = y_train\n",
    "x_train2 =x_train2.drop(x_train2[delete_columns2],axis=1)\n",
    "x_test2 =y_test2.drop(y_test2[delete_columns2],axis=1)"
   ]
  },
  {
   "cell_type": "markdown",
   "metadata": {},
   "source": [
    "- 検証用データと学習用データに分ける"
   ]
  },
  {
   "cell_type": "code",
   "execution_count": 407,
   "metadata": {},
   "outputs": [],
   "source": [
    "x_train, x_valid, y_train, y_valid = train_test_split(x_train,y_train,test_size=0.3,random_state=0)\n",
    "x_train2, x_valid2, y_train2, y_valid2 = train_test_split(x_train2,y_train2,test_size=0.3,random_state=0)"
   ]
  },
  {
   "cell_type": "markdown",
   "metadata": {},
   "source": [
    "## ■RandomForestRegressorで機械学習で計算を行う\n",
    "\n",
    "- グリッドサーチで適切なパラメータを出力\n",
    "- trainデータで学習を行う\n",
    "- 検証用データで、y_Validを予測する"
   ]
  },
  {
   "cell_type": "code",
   "execution_count": 408,
   "metadata": {},
   "outputs": [],
   "source": [
    "param_grid= {\"max_depth\":[2,4,6],\n",
    "            \"min_samples_split\":[3,4,6],\n",
    "             \"min_samples_leaf\":[1,2],\n",
    "             \"n_estimators\":[100,200,300,400]\n",
    "            }"
   ]
  },
  {
   "cell_type": "code",
   "execution_count": 409,
   "metadata": {},
   "outputs": [],
   "source": [
    "randomforest_model =  GridSearchCV(RandomForestRegressor(),param_grid = param_grid, cv=5)\n",
    "randomforest_model.fit(x_train,y_train)\n",
    "price = randomforest_model.predict(x_valid)\n",
    "submission1 = randomforest_model.predict(x_test)"
   ]
  },
  {
   "cell_type": "markdown",
   "metadata": {},
   "source": [
    "## ■線形のLinearRegressionで機械学習を行う\n",
    "- グリッドサーチで適切なパラメータを出力\n",
    "- train データで学習を行う\n",
    "- 検証用データで、y_Validを予測する"
   ]
  },
  {
   "cell_type": "code",
   "execution_count": 410,
   "metadata": {},
   "outputs": [],
   "source": [
    "param_grid= {\"normalize\": [True,False],\n",
    "                         \"fit_intercept\":[True,False]}"
   ]
  },
  {
   "cell_type": "code",
   "execution_count": 411,
   "metadata": {},
   "outputs": [],
   "source": [
    "linear_model = GridSearchCV(LinearRegression(),param_grid= param_grid,cv=5)\n",
    "linear_model.fit(x_train2,y_train2)\n",
    "price2 = linear_model .predict(x_valid2)\n",
    "submission2 = linear_model.predict(x_test2)"
   ]
  },
  {
   "cell_type": "markdown",
   "metadata": {},
   "source": [
    "## ■SVRで機械学習を行う\n",
    "- グリッドサーチで適切なパラメータを出力\n",
    "- train データで学習を行う\n",
    "- 検証用データで、y_Validを予測する"
   ]
  },
  {
   "cell_type": "code",
   "execution_count": 412,
   "metadata": {},
   "outputs": [],
   "source": [
    "param_grid= {\"epsilon\": [0, 1, 10],\n",
    "                         \"C\":[1,10,20,100],\n",
    "                      \"gamma\": [1, 0.1, 0.01, 0.001]\n",
    "             kernel\"rbf\":[rbf,]\n",
    "            }"
   ]
  },
  {
   "cell_type": "code",
   "execution_count": 413,
   "metadata": {},
   "outputs": [],
   "source": [
    "svr_model =  GridSearchCV(SVR(),param_grid = param_grid, cv=5)\n",
    "svr_model.fit(x_train2,y_train2)\n",
    "price3 = svr_model.predict(x_valid2)\n",
    "submission3 = svr_model.predict(x_test2)"
   ]
  },
  {
   "cell_type": "markdown",
   "metadata": {},
   "source": [
    "## ■LightGBMで機械学習を行う\n",
    "- グリッドサーチで適切なパラメータを出力\n",
    "- train データで学習を行う\n",
    "- 検証用データで、y_Validを予測する"
   ]
  },
  {
   "cell_type": "code",
   "execution_count": 414,
   "metadata": {},
   "outputs": [],
   "source": [
    "param_grid= {\n",
    "    \"num_leaves\":[1,30,60],\n",
    "    \"n_estimators\":[100,200,300,400],\n",
    "             \"max_depth\":[3,4,6],\n",
    "             \"objective\":[\"regression\"],\n",
    "             \"num_leaves\":[3,5,10],\n",
    "             \"min_data_in_leaf \":[3,6,9],\n",
    "            }"
   ]
  },
  {
   "cell_type": "code",
   "execution_count": 415,
   "metadata": {},
   "outputs": [],
   "source": [
    "lgb_model =  GridSearchCV(lgb.LGBMRegressor(),param_grid = param_grid, cv=5)\n",
    "lgb_model.fit(x_train,y_train)\n",
    "price4 = lgb_model .predict(x_valid)\n",
    "submission4 = lgb_model .predict(x_test)"
   ]
  },
  {
   "cell_type": "markdown",
   "metadata": {},
   "source": [
    "## ■XGboostで学習を行う\n",
    "- グリッドサーチで適切なパラメータを出力\n",
    "- train dataで学習を行う\n",
    "- 検証用データで、y_Validを予測する"
   ]
  },
  {
   "cell_type": "code",
   "execution_count": 416,
   "metadata": {},
   "outputs": [],
   "source": [
    "param_grid= {\n",
    "    \"num_leaves\":[1,30,60],\n",
    "        \"n_estimators\":[100,200,300,400],\n",
    "             \"max_depth\":[3,4,6],\n",
    "             \"num_leaves\":[3,5,10],\n",
    "             \"min_data_in_leaf \":[3,6,9],\n",
    "            }"
   ]
  },
  {
   "cell_type": "code",
   "execution_count": 417,
   "metadata": {
    "scrolled": true
   },
   "outputs": [
    {
     "name": "stdout",
     "output_type": "stream",
     "text": [
      "[12:12:03] WARNING: src/objective/regression_obj.cu:152: reg:linear is now deprecated in favor of reg:squarederror.\n",
      "[12:12:04] WARNING: src/objective/regression_obj.cu:152: reg:linear is now deprecated in favor of reg:squarederror.\n",
      "[12:12:05] WARNING: src/objective/regression_obj.cu:152: reg:linear is now deprecated in favor of reg:squarederror.\n",
      "[12:12:06] WARNING: src/objective/regression_obj.cu:152: reg:linear is now deprecated in favor of reg:squarederror.\n",
      "[12:12:06] WARNING: src/objective/regression_obj.cu:152: reg:linear is now deprecated in favor of reg:squarederror.\n",
      "[12:12:07] WARNING: src/objective/regression_obj.cu:152: reg:linear is now deprecated in favor of reg:squarederror.\n",
      "[12:12:08] WARNING: src/objective/regression_obj.cu:152: reg:linear is now deprecated in favor of reg:squarederror.\n",
      "[12:12:09] WARNING: src/objective/regression_obj.cu:152: reg:linear is now deprecated in favor of reg:squarederror.\n",
      "[12:12:10] WARNING: src/objective/regression_obj.cu:152: reg:linear is now deprecated in favor of reg:squarederror.\n",
      "[12:12:11] WARNING: src/objective/regression_obj.cu:152: reg:linear is now deprecated in favor of reg:squarederror.\n",
      "[12:12:11] WARNING: src/objective/regression_obj.cu:152: reg:linear is now deprecated in favor of reg:squarederror.\n",
      "[12:12:12] WARNING: src/objective/regression_obj.cu:152: reg:linear is now deprecated in favor of reg:squarederror.\n",
      "[12:12:13] WARNING: src/objective/regression_obj.cu:152: reg:linear is now deprecated in favor of reg:squarederror.\n",
      "[12:12:14] WARNING: src/objective/regression_obj.cu:152: reg:linear is now deprecated in favor of reg:squarederror.\n",
      "[12:12:15] WARNING: src/objective/regression_obj.cu:152: reg:linear is now deprecated in favor of reg:squarederror.\n",
      "[12:12:15] WARNING: src/objective/regression_obj.cu:152: reg:linear is now deprecated in favor of reg:squarederror.\n",
      "[12:12:16] WARNING: src/objective/regression_obj.cu:152: reg:linear is now deprecated in favor of reg:squarederror.\n",
      "[12:12:17] WARNING: src/objective/regression_obj.cu:152: reg:linear is now deprecated in favor of reg:squarederror.\n",
      "[12:12:18] WARNING: src/objective/regression_obj.cu:152: reg:linear is now deprecated in favor of reg:squarederror.\n",
      "[12:12:19] WARNING: src/objective/regression_obj.cu:152: reg:linear is now deprecated in favor of reg:squarederror.\n",
      "[12:12:20] WARNING: src/objective/regression_obj.cu:152: reg:linear is now deprecated in favor of reg:squarederror.\n",
      "[12:12:21] WARNING: src/objective/regression_obj.cu:152: reg:linear is now deprecated in favor of reg:squarederror.\n",
      "[12:12:22] WARNING: src/objective/regression_obj.cu:152: reg:linear is now deprecated in favor of reg:squarederror.\n",
      "[12:12:23] WARNING: src/objective/regression_obj.cu:152: reg:linear is now deprecated in favor of reg:squarederror.\n",
      "[12:12:24] WARNING: src/objective/regression_obj.cu:152: reg:linear is now deprecated in favor of reg:squarederror.\n",
      "[12:12:25] WARNING: src/objective/regression_obj.cu:152: reg:linear is now deprecated in favor of reg:squarederror.\n",
      "[12:12:26] WARNING: src/objective/regression_obj.cu:152: reg:linear is now deprecated in favor of reg:squarederror.\n",
      "[12:12:27] WARNING: src/objective/regression_obj.cu:152: reg:linear is now deprecated in favor of reg:squarederror.\n",
      "[12:12:28] WARNING: src/objective/regression_obj.cu:152: reg:linear is now deprecated in favor of reg:squarederror.\n",
      "[12:12:29] WARNING: src/objective/regression_obj.cu:152: reg:linear is now deprecated in favor of reg:squarederror.\n",
      "[12:12:30] WARNING: src/objective/regression_obj.cu:152: reg:linear is now deprecated in favor of reg:squarederror.\n",
      "[12:12:31] WARNING: src/objective/regression_obj.cu:152: reg:linear is now deprecated in favor of reg:squarederror.\n",
      "[12:12:31] WARNING: src/objective/regression_obj.cu:152: reg:linear is now deprecated in favor of reg:squarederror.\n",
      "[12:12:32] WARNING: src/objective/regression_obj.cu:152: reg:linear is now deprecated in favor of reg:squarederror.\n",
      "[12:12:33] WARNING: src/objective/regression_obj.cu:152: reg:linear is now deprecated in favor of reg:squarederror.\n",
      "[12:12:34] WARNING: src/objective/regression_obj.cu:152: reg:linear is now deprecated in favor of reg:squarederror.\n",
      "[12:12:35] WARNING: src/objective/regression_obj.cu:152: reg:linear is now deprecated in favor of reg:squarederror.\n",
      "[12:12:37] WARNING: src/objective/regression_obj.cu:152: reg:linear is now deprecated in favor of reg:squarederror.\n",
      "[12:12:38] WARNING: src/objective/regression_obj.cu:152: reg:linear is now deprecated in favor of reg:squarederror.\n",
      "[12:12:39] WARNING: src/objective/regression_obj.cu:152: reg:linear is now deprecated in favor of reg:squarederror.\n",
      "[12:12:41] WARNING: src/objective/regression_obj.cu:152: reg:linear is now deprecated in favor of reg:squarederror.\n",
      "[12:12:42] WARNING: src/objective/regression_obj.cu:152: reg:linear is now deprecated in favor of reg:squarederror.\n",
      "[12:12:43] WARNING: src/objective/regression_obj.cu:152: reg:linear is now deprecated in favor of reg:squarederror.\n",
      "[12:12:44] WARNING: src/objective/regression_obj.cu:152: reg:linear is now deprecated in favor of reg:squarederror.\n",
      "[12:12:46] WARNING: src/objective/regression_obj.cu:152: reg:linear is now deprecated in favor of reg:squarederror.\n",
      "[12:12:47] WARNING: src/objective/regression_obj.cu:152: reg:linear is now deprecated in favor of reg:squarederror.\n",
      "[12:12:48] WARNING: src/objective/regression_obj.cu:152: reg:linear is now deprecated in favor of reg:squarederror.\n",
      "[12:12:49] WARNING: src/objective/regression_obj.cu:152: reg:linear is now deprecated in favor of reg:squarederror.\n",
      "[12:12:51] WARNING: src/objective/regression_obj.cu:152: reg:linear is now deprecated in favor of reg:squarederror.\n",
      "[12:12:52] WARNING: src/objective/regression_obj.cu:152: reg:linear is now deprecated in favor of reg:squarederror.\n",
      "[12:12:53] WARNING: src/objective/regression_obj.cu:152: reg:linear is now deprecated in favor of reg:squarederror.\n",
      "[12:12:55] WARNING: src/objective/regression_obj.cu:152: reg:linear is now deprecated in favor of reg:squarederror.\n",
      "[12:12:56] WARNING: src/objective/regression_obj.cu:152: reg:linear is now deprecated in favor of reg:squarederror.\n",
      "[12:12:57] WARNING: src/objective/regression_obj.cu:152: reg:linear is now deprecated in favor of reg:squarederror.\n",
      "[12:12:59] WARNING: src/objective/regression_obj.cu:152: reg:linear is now deprecated in favor of reg:squarederror.\n"
     ]
    }
   ],
   "source": [
    "xgb_model = GridSearchCV(xgb.XGBRegressor(),param_grid = param_grid, cv=5)\n",
    "xgb_model .fit(x_train, y_train)\n",
    "price5 = xgb_model .predict(x_valid)\n",
    "submission5 = xgb_model.predict(x_test)"
   ]
  },
  {
   "cell_type": "markdown",
   "metadata": {},
   "source": [
    "## ■ 検証用データを確認\n",
    "- 検証用データを真数に戻す\n",
    "- R2スコア、二乗平均平方根誤差RMSEをそれぞれ確認する"
   ]
  },
  {
   "cell_type": "code",
   "execution_count": 418,
   "metadata": {},
   "outputs": [],
   "source": [
    "y_valid = np.exp(y_valid)\n",
    "y_valid2 = np.exp(y_valid2)"
   ]
  },
  {
   "cell_type": "markdown",
   "metadata": {},
   "source": [
    "-　モデルの当てはまり度の仮説\n",
    "- 相関係数に考慮した列作成はしていないので、線形のLinearRegressionやSupport Vector Regressionはあまりモデルの予測は良くないかもしれない\n",
    "- その他は極端な過学習が起こりそうなデータを省いた上で、アンサンブルや勾配ブースティングで学習を行うのでそこそこモデルの当てはまりは良いと予測"
   ]
  },
  {
   "cell_type": "markdown",
   "metadata": {},
   "source": [
    "-　モデルの当てはまり度結果\n",
    "- R2スコアを確認\n",
    "- RandomForestRegressorは0.7超え、lLightGBM、XGBoost,は予想通り0.8超えのr2スコア\n",
    "- Support Vector Regressionは予想通りの低さ\n",
    "- LinearRegressionは正規化のパラメータ効いたのか、スコアはまさかの0.8超え"
   ]
  },
  {
   "cell_type": "code",
   "execution_count": 419,
   "metadata": {},
   "outputs": [
    {
     "name": "stdout",
     "output_type": "stream",
     "text": [
      "RandomForestRegressor\n",
      "r2スコア 0.7918460808261134\n",
      "LinearRegression\n",
      "r2スコア 0.8774072440147407\n",
      "Support Vector Regression\n",
      "r2スコア -7.3304506390738915\n",
      "lLightGBM\n",
      "r2スコア 0.8786610959579917\n",
      "lXGBoost\n",
      "r2スコア 0.8123642421757812\n"
     ]
    }
   ],
   "source": [
    "print(\"RandomForestRegressor\")\n",
    "r2_1 = r2_score(np.exp(price), y_valid)\n",
    "print(\"r2スコア\", r2_1)\n",
    "print(\"LinearRegression\")\n",
    "r2_2 = r2_score(np.exp(price２), y_valid2)\n",
    "print(\"r2スコア\", r2_2)\n",
    "print(\"Support Vector Regression\")\n",
    "r2_3 = r2_score(np.exp(price3), y_valid2)\n",
    "print(\"r2スコア\", r2_3)\n",
    "print(\"lLightGBM\")\n",
    "r2_4 = r2_score(np.exp(price4), y_valid)\n",
    "print(\"r2スコア\", r2_4)\n",
    "print(\"lXGBoost\")\n",
    "r2_5 = r2_score(np.exp(price5), y_valid)\n",
    "print(\"r2スコア\", r2_5)"
   ]
  },
  {
   "cell_type": "markdown",
   "metadata": {},
   "source": [
    "- それぞれの横棒グラフでそれぞれの二乗平均平方根誤差RMSEを確認する"
   ]
  },
  {
   "cell_type": "markdown",
   "metadata": {},
   "source": [
    "-　二乗平均平方根誤差仮説\n",
    "- 勾配ブースティングを行っている、lXGBoost、lLightGBMが誤差が少ないと予測"
   ]
  },
  {
   "cell_type": "markdown",
   "metadata": {},
   "source": [
    "-　RMSEの結果\n",
    "-　予想通りLightGBMが一番誤差が少なかった\n",
    "-  XGBoostは勾配ブースティングで弱学習器の誤差も考慮しているがRandomForestRegressorとそこまで精度に違いはなかった\n",
    "- LinearRegressionはなんと、LightGBMの次に誤差が少ない、正規化が効いているのかもしれない\n",
    "- Support Vector Regressioはそもそも決定木を意識した学習データのため、誤差が多い"
   ]
  },
  {
   "cell_type": "code",
   "execution_count": 420,
   "metadata": {},
   "outputs": [
    {
     "data": {
      "image/png": "[encoded data removed]",
      "text/plain": [
       "<Figure size 432x288 with 1 Axes>"
      ]
     },
     "metadata": {
      "needs_background": "light"
     },
     "output_type": "display_data"
    }
   ],
   "source": [
    "mse = mean_squared_error(np.exp(price),y_valid)\n",
    "rmse1 =np.sqrt(mse)\n",
    "mse2 = mean_squared_error(np.exp(price2),y_valid)\n",
    "rmse2 =np.sqrt(mse2)\n",
    "mse3 = mean_squared_error(np.exp(price3),y_valid)\n",
    "rmse3 =np.sqrt(mse3)\n",
    "mse4 = mean_squared_error(np.exp(price4),y_valid)\n",
    "rmse4 =np.sqrt(mse4)\n",
    "mse5= mean_squared_error(np.exp(price5),y_valid)\n",
    "rmse5 =np.sqrt(mse5)\n",
    "height1 = [rmse5, rmse4, rmse3,rmse2,rmse1] \n",
    "left = np.arange(len(height1)) \n",
    "labels = ['XGBoost', 'LightGBM', 'Support Vector Regression', 'LinearRegression', 'RandomForestRegressor']\n",
    "height = 0.5\n",
    "plt.barh(left, height1, color='b', height=height, align='center')\n",
    "plt.yticks(left + height/2, labels)\n",
    "plt.show()"
   ]
  },
  {
   "cell_type": "markdown",
   "metadata": {},
   "source": [
    "- lightGBMの誤差が一番少なかったので、lightGBMを提出データとする\n",
    "- lightGBMのtestラベルを真数にして、提出用データを作成"
   ]
  },
  {
   "cell_type": "code",
   "execution_count": 421,
   "metadata": {},
   "outputs": [],
   "source": [
    "submission = pd.DataFrame({\n",
    "    \"Id\": submissioonid,\n",
    "    \"SalePrice\":np.exp(submission4)\n",
    "    })\n",
    "submission.to_csv('houseplace.csv', index=False)"
   ]
  }
 ],
 "metadata": {
  "kernelspec": {
   "display_name": "Python 3",
   "language": "python",
   "name": "python3"
  },
  "language_info": {
   "codemirror_mode": {
    "name": "ipython",
    "version": 3
   },
   "file_extension": ".py",
   "mimetype": "text/x-python",
   "name": "python",
   "nbconvert_exporter": "python",
   "pygments_lexer": "ipython3",
   "version": "3.7.6"
  },
  "widgets": {
   "application/vnd.jupyter.widget-state+json": {
    "state": {},
    "version_major": 2,
    "version_minor": 0
   }
  }
 },
 "nbformat": 4,
 "nbformat_minor": 4
}
